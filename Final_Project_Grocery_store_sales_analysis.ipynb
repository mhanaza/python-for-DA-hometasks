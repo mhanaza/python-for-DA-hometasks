{
 "cells": [
  {
   "cell_type": "markdown",
   "id": "cad97ee1-8ac2-47df-a063-de2d837f19bf",
   "metadata": {},
   "source": [
    " **0.Аналіз даних перед початком роботи**"
   ]
  },
  {
   "cell_type": "code",
   "execution_count": 17,
   "id": "40c843e7-2e71-456b-9458-6585fce61037",
   "metadata": {
    "tags": []
   },
   "outputs": [
    {
     "name": "stdout",
     "output_type": "stream",
     "text": [
      "Набір даних містить 50447 рядків та 32 колонки\n"
     ]
    }
   ],
   "source": [
    "# Розмір датасету\n",
    "df.shape\n",
    "print(f'Набір даних містить {df.shape[0]} рядків та {df.shape[1]} колонки')"
   ]
  },
  {
   "cell_type": "code",
   "execution_count": 18,
   "id": "d058b038-3bd3-4155-ba4a-8756776ee72e",
   "metadata": {
    "tags": []
   },
   "outputs": [
    {
     "name": "stdout",
     "output_type": "stream",
     "text": [
      "<class 'pandas.core.frame.DataFrame'>\n",
      "RangeIndex: 50447 entries, 0 to 50446\n",
      "Data columns (total 32 columns):\n",
      " #   Column               Non-Null Count  Dtype         \n",
      "---  ------               --------------  -----         \n",
      " 0   Receipt Number       50447 non-null  object        \n",
      " 1   Date                 50447 non-null  datetime64[ns]\n",
      " 2   Year                 50447 non-null  int64         \n",
      " 3   Month                50447 non-null  int64         \n",
      " 4   Time                 50447 non-null  object        \n",
      " 5   Mobile Number        50447 non-null  int64         \n",
      " 6   Membership ID        50447 non-null  object        \n",
      " 7   Loyalty Card Points  50447 non-null  int64         \n",
      " 8   Age                  50447 non-null  int64         \n",
      " 9   Gender               50447 non-null  object        \n",
      " 10  City                 50447 non-null  object        \n",
      " 11  Country              50447 non-null  object        \n",
      " 12  Category             50447 non-null  object        \n",
      " 13  Sub_Category         50447 non-null  object        \n",
      " 14  Items                50447 non-null  object        \n",
      " 15  Brand                50447 non-null  object        \n",
      " 16  Description          50447 non-null  object        \n",
      " 17  Price                50447 non-null  float64       \n",
      " 18  QTY                  50447 non-null  int64         \n",
      " 19  DISC                 50447 non-null  float64       \n",
      " 20  Amount               50447 non-null  float64       \n",
      " 21  Net Bill Amount      50447 non-null  float64       \n",
      " 22  GST                  50447 non-null  float64       \n",
      " 23  Gross Bill Amount    50447 non-null  float64       \n",
      " 24  Payment Mode         50447 non-null  object        \n",
      " 25  Bank Name            50447 non-null  object        \n",
      " 26  % Profit Margin      50447 non-null  float64       \n",
      " 27  % Operating Cost     50447 non-null  float64       \n",
      " 28  % Product Cost       50447 non-null  float64       \n",
      " 29  Profit Margin        50447 non-null  float64       \n",
      " 30  Operating Cost       50447 non-null  float64       \n",
      " 31  Product Cost         50447 non-null  float64       \n",
      "dtypes: datetime64[ns](1), float64(12), int64(6), object(13)\n",
      "memory usage: 12.3+ MB\n"
     ]
    }
   ],
   "source": [
    "# Назва колонок та тип даних\n",
    "df.info()\n"
   ]
  },
  {
   "cell_type": "code",
   "execution_count": 26,
   "id": "da55e7a6-6af2-4503-bab4-0507e2fadc81",
   "metadata": {
    "tags": []
   },
   "outputs": [],
   "source": [
    "# Заміна деяких типів даних\n",
    "df = df.astype({'Year': 'int64', 'Month': 'int64', 'Loyalty Card Points' : 'int64', 'Age' : 'int64', 'QTY' : 'int64', 'Mobile Number' : 'str'})"
   ]
  },
  {
   "cell_type": "code",
   "execution_count": 27,
   "id": "278ed60d-612f-435d-90e9-9b87586694ab",
   "metadata": {
    "tags": []
   },
   "outputs": [
    {
     "data": {
      "text/html": [
       "<div>\n",
       "<style scoped>\n",
       "    .dataframe tbody tr th:only-of-type {\n",
       "        vertical-align: middle;\n",
       "    }\n",
       "\n",
       "    .dataframe tbody tr th {\n",
       "        vertical-align: top;\n",
       "    }\n",
       "\n",
       "    .dataframe thead th {\n",
       "        text-align: right;\n",
       "    }\n",
       "</style>\n",
       "<table border=\"1\" class=\"dataframe\">\n",
       "  <thead>\n",
       "    <tr style=\"text-align: right;\">\n",
       "      <th></th>\n",
       "      <th>Receipt Number</th>\n",
       "      <th>Date</th>\n",
       "      <th>Year</th>\n",
       "      <th>Month</th>\n",
       "      <th>Time</th>\n",
       "      <th>Mobile Number</th>\n",
       "      <th>Membership ID</th>\n",
       "      <th>Loyalty Card Points</th>\n",
       "      <th>Age</th>\n",
       "      <th>Gender</th>\n",
       "      <th>City</th>\n",
       "      <th>Country</th>\n",
       "      <th>Category</th>\n",
       "      <th>Sub_Category</th>\n",
       "      <th>Items</th>\n",
       "      <th>Brand</th>\n",
       "      <th>Description</th>\n",
       "      <th>Price</th>\n",
       "      <th>QTY</th>\n",
       "      <th>DISC</th>\n",
       "      <th>Amount</th>\n",
       "      <th>Net Bill Amount</th>\n",
       "      <th>GST</th>\n",
       "      <th>Gross Bill Amount</th>\n",
       "      <th>Payment Mode</th>\n",
       "      <th>Bank Name</th>\n",
       "      <th>% Profit Margin</th>\n",
       "      <th>% Operating Cost</th>\n",
       "      <th>% Product Cost</th>\n",
       "      <th>Profit Margin</th>\n",
       "      <th>Operating Cost</th>\n",
       "      <th>Product Cost</th>\n",
       "      <th>Net Bill Amount Recalculation</th>\n",
       "      <th>Gross Bill Amount Recalculation</th>\n",
       "    </tr>\n",
       "  </thead>\n",
       "  <tbody>\n",
       "    <tr>\n",
       "      <th>0</th>\n",
       "      <td>GIJ00001</td>\n",
       "      <td>2016-01-02</td>\n",
       "      <td>2016</td>\n",
       "      <td>1</td>\n",
       "      <td>10:08:03.260000</td>\n",
       "      <td>9793548581</td>\n",
       "      <td>MIDID0001</td>\n",
       "      <td>1</td>\n",
       "      <td>36</td>\n",
       "      <td>Male</td>\n",
       "      <td>Jakarta</td>\n",
       "      <td>Indonesia</td>\n",
       "      <td>Choco, Snacks, Sweets</td>\n",
       "      <td>Biscuits &amp; Crackers</td>\n",
       "      <td>Oreo mini oreo sharepack</td>\n",
       "      <td>Oreo</td>\n",
       "      <td>540 g</td>\n",
       "      <td>3.09</td>\n",
       "      <td>4</td>\n",
       "      <td>0.02</td>\n",
       "      <td>12.1128</td>\n",
       "      <td>12.1128</td>\n",
       "      <td>0.1</td>\n",
       "      <td>13.32408</td>\n",
       "      <td>Card</td>\n",
       "      <td>Enterprise Bank</td>\n",
       "      <td>0.150</td>\n",
       "      <td>0.15</td>\n",
       "      <td>0.700</td>\n",
       "      <td>1.85400</td>\n",
       "      <td>1.8540</td>\n",
       "      <td>8.65200</td>\n",
       "      <td>12.1128</td>\n",
       "      <td>13.32408</td>\n",
       "    </tr>\n",
       "    <tr>\n",
       "      <th>1</th>\n",
       "      <td>GIJ00002</td>\n",
       "      <td>2016-01-02</td>\n",
       "      <td>2016</td>\n",
       "      <td>1</td>\n",
       "      <td>15:46:50.832000</td>\n",
       "      <td>9938441276</td>\n",
       "      <td>MIDID0002</td>\n",
       "      <td>2</td>\n",
       "      <td>54</td>\n",
       "      <td>Male</td>\n",
       "      <td>Jakarta</td>\n",
       "      <td>Indonesia</td>\n",
       "      <td>Wines, Beers &amp; Spirits</td>\n",
       "      <td>Beer</td>\n",
       "      <td>Ashai Lager Beer</td>\n",
       "      <td>Ashai</td>\n",
       "      <td>480 ml</td>\n",
       "      <td>11.60</td>\n",
       "      <td>2</td>\n",
       "      <td>0.01</td>\n",
       "      <td>22.9680</td>\n",
       "      <td>22.9680</td>\n",
       "      <td>0.1</td>\n",
       "      <td>25.26480</td>\n",
       "      <td>Card</td>\n",
       "      <td>Philippine Veterans Bank</td>\n",
       "      <td>0.118</td>\n",
       "      <td>0.15</td>\n",
       "      <td>0.732</td>\n",
       "      <td>2.73760</td>\n",
       "      <td>3.4800</td>\n",
       "      <td>16.98240</td>\n",
       "      <td>22.9680</td>\n",
       "      <td>25.26480</td>\n",
       "    </tr>\n",
       "    <tr>\n",
       "      <th>2</th>\n",
       "      <td>GIJ00003</td>\n",
       "      <td>2016-01-02</td>\n",
       "      <td>2016</td>\n",
       "      <td>1</td>\n",
       "      <td>11:28:52.166000</td>\n",
       "      <td>9976742552</td>\n",
       "      <td>MIDID0003</td>\n",
       "      <td>1</td>\n",
       "      <td>16</td>\n",
       "      <td>Female</td>\n",
       "      <td>Jakarta</td>\n",
       "      <td>Indonesia</td>\n",
       "      <td>Fruit &amp; Vegetable</td>\n",
       "      <td>Frozen Fruits</td>\n",
       "      <td>Cascadian farm organic strawberries</td>\n",
       "      <td>Cascadiam Farm</td>\n",
       "      <td>1 Kg</td>\n",
       "      <td>13.31</td>\n",
       "      <td>1</td>\n",
       "      <td>0.01</td>\n",
       "      <td>13.1769</td>\n",
       "      <td>38.3526</td>\n",
       "      <td>0.1</td>\n",
       "      <td>42.18786</td>\n",
       "      <td>Cash</td>\n",
       "      <td>BDO Unibank</td>\n",
       "      <td>0.147</td>\n",
       "      <td>0.15</td>\n",
       "      <td>0.703</td>\n",
       "      <td>1.95657</td>\n",
       "      <td>1.9965</td>\n",
       "      <td>9.35693</td>\n",
       "      <td>13.1769</td>\n",
       "      <td>14.49459</td>\n",
       "    </tr>\n",
       "  </tbody>\n",
       "</table>\n",
       "</div>"
      ],
      "text/plain": [
       "  Receipt Number       Date  Year  Month             Time Mobile Number  \\\n",
       "0       GIJ00001 2016-01-02  2016      1  10:08:03.260000    9793548581   \n",
       "1       GIJ00002 2016-01-02  2016      1  15:46:50.832000    9938441276   \n",
       "2       GIJ00003 2016-01-02  2016      1  11:28:52.166000    9976742552   \n",
       "\n",
       "  Membership ID  Loyalty Card Points  Age  Gender     City    Country  \\\n",
       "0     MIDID0001                    1   36    Male  Jakarta  Indonesia   \n",
       "1     MIDID0002                    2   54    Male  Jakarta  Indonesia   \n",
       "2     MIDID0003                    1   16  Female  Jakarta  Indonesia   \n",
       "\n",
       "                 Category         Sub_Category  \\\n",
       "0   Choco, Snacks, Sweets  Biscuits & Crackers   \n",
       "1  Wines, Beers & Spirits                 Beer   \n",
       "2       Fruit & Vegetable        Frozen Fruits   \n",
       "\n",
       "                                 Items          Brand  Description   Price  \\\n",
       "0             Oreo mini oreo sharepack            Oreo        540 g   3.09   \n",
       "1                     Ashai Lager Beer           Ashai       480 ml  11.60   \n",
       "2  Cascadian farm organic strawberries  Cascadiam Farm         1 Kg  13.31   \n",
       "\n",
       "   QTY  DISC   Amount  Net Bill Amount  GST  Gross Bill Amount Payment Mode  \\\n",
       "0    4  0.02  12.1128          12.1128  0.1           13.32408         Card   \n",
       "1    2  0.01  22.9680          22.9680  0.1           25.26480         Card   \n",
       "2    1  0.01  13.1769          38.3526  0.1           42.18786         Cash   \n",
       "\n",
       "                  Bank Name  % Profit Margin  % Operating Cost  \\\n",
       "0           Enterprise Bank            0.150              0.15   \n",
       "1  Philippine Veterans Bank            0.118              0.15   \n",
       "2               BDO Unibank            0.147              0.15   \n",
       "\n",
       "   % Product Cost  Profit Margin  Operating Cost  Product Cost  \\\n",
       "0           0.700        1.85400          1.8540       8.65200   \n",
       "1           0.732        2.73760          3.4800      16.98240   \n",
       "2           0.703        1.95657          1.9965       9.35693   \n",
       "\n",
       "   Net Bill Amount Recalculation  Gross Bill Amount Recalculation  \n",
       "0                        12.1128                         13.32408  \n",
       "1                        22.9680                         25.26480  \n",
       "2                        13.1769                         14.49459  "
      ]
     },
     "execution_count": 27,
     "metadata": {},
     "output_type": "execute_result"
    }
   ],
   "source": [
    "# Переглянемо вміст даних по всім колонкам\n",
    "pd.options.display.max_columns = None\n",
    "df.head(3)"
   ]
  },
  {
   "cell_type": "code",
   "execution_count": 28,
   "id": "2d55d27b-5f49-4259-b14a-d1c67bbe5106",
   "metadata": {
    "tags": []
   },
   "outputs": [
    {
     "data": {
      "text/plain": [
       "Receipt Number                     0\n",
       "Date                               0\n",
       "Year                               0\n",
       "Month                              0\n",
       "Time                               0\n",
       "Mobile Number                      0\n",
       "Membership ID                      0\n",
       "Loyalty Card Points                0\n",
       "Age                                0\n",
       "Gender                             0\n",
       "City                               0\n",
       "Country                            0\n",
       "Category                           0\n",
       "Sub_Category                       0\n",
       "Items                              0\n",
       "Brand                              0\n",
       "Description                        0\n",
       "Price                              0\n",
       "QTY                                0\n",
       "DISC                               0\n",
       "Amount                             0\n",
       "Net Bill Amount                    0\n",
       "GST                                0\n",
       "Gross Bill Amount                  0\n",
       "Payment Mode                       0\n",
       "Bank Name                          0\n",
       "% Profit Margin                    0\n",
       "% Operating Cost                   0\n",
       "% Product Cost                     0\n",
       "Profit Margin                      0\n",
       "Operating Cost                     0\n",
       "Product Cost                       0\n",
       "Net Bill Amount Recalculation      0\n",
       "Gross Bill Amount Recalculation    0\n",
       "dtype: int64"
      ]
     },
     "execution_count": 28,
     "metadata": {},
     "output_type": "execute_result"
    }
   ],
   "source": [
    "# Перевірка чи є пропущені значення у наборі даних\n",
    "df.isna().sum()"
   ]
  },
  {
   "cell_type": "code",
   "execution_count": 29,
   "id": "5a1b2e04-c3e2-4bf6-b141-3d15b9836b13",
   "metadata": {
    "tags": []
   },
   "outputs": [
    {
     "data": {
      "text/html": [
       "<div>\n",
       "<style scoped>\n",
       "    .dataframe tbody tr th:only-of-type {\n",
       "        vertical-align: middle;\n",
       "    }\n",
       "\n",
       "    .dataframe tbody tr th {\n",
       "        vertical-align: top;\n",
       "    }\n",
       "\n",
       "    .dataframe thead th {\n",
       "        text-align: right;\n",
       "    }\n",
       "</style>\n",
       "<table border=\"1\" class=\"dataframe\">\n",
       "  <thead>\n",
       "    <tr style=\"text-align: right;\">\n",
       "      <th></th>\n",
       "      <th>Receipt Number</th>\n",
       "      <th>Date</th>\n",
       "      <th>Year</th>\n",
       "      <th>Month</th>\n",
       "      <th>Time</th>\n",
       "      <th>Mobile Number</th>\n",
       "      <th>Membership ID</th>\n",
       "      <th>Loyalty Card Points</th>\n",
       "      <th>Age</th>\n",
       "      <th>Gender</th>\n",
       "      <th>City</th>\n",
       "      <th>Country</th>\n",
       "      <th>Category</th>\n",
       "      <th>Sub_Category</th>\n",
       "      <th>Items</th>\n",
       "      <th>Brand</th>\n",
       "      <th>Description</th>\n",
       "      <th>Price</th>\n",
       "      <th>QTY</th>\n",
       "      <th>DISC</th>\n",
       "      <th>Amount</th>\n",
       "      <th>Net Bill Amount</th>\n",
       "      <th>GST</th>\n",
       "      <th>Gross Bill Amount</th>\n",
       "      <th>Payment Mode</th>\n",
       "      <th>Bank Name</th>\n",
       "      <th>% Profit Margin</th>\n",
       "      <th>% Operating Cost</th>\n",
       "      <th>% Product Cost</th>\n",
       "      <th>Profit Margin</th>\n",
       "      <th>Operating Cost</th>\n",
       "      <th>Product Cost</th>\n",
       "      <th>Net Bill Amount Recalculation</th>\n",
       "      <th>Gross Bill Amount Recalculation</th>\n",
       "    </tr>\n",
       "  </thead>\n",
       "  <tbody>\n",
       "    <tr>\n",
       "      <th>2</th>\n",
       "      <td>GIJ00003</td>\n",
       "      <td>2016-01-02</td>\n",
       "      <td>2016</td>\n",
       "      <td>1</td>\n",
       "      <td>11:28:52.166000</td>\n",
       "      <td>9976742552</td>\n",
       "      <td>MIDID0003</td>\n",
       "      <td>1</td>\n",
       "      <td>16</td>\n",
       "      <td>Female</td>\n",
       "      <td>Jakarta</td>\n",
       "      <td>Indonesia</td>\n",
       "      <td>Fruit &amp; Vegetable</td>\n",
       "      <td>Frozen Fruits</td>\n",
       "      <td>Cascadian farm organic strawberries</td>\n",
       "      <td>Cascadiam Farm</td>\n",
       "      <td>1 Kg</td>\n",
       "      <td>13.31</td>\n",
       "      <td>1</td>\n",
       "      <td>0.01</td>\n",
       "      <td>13.1769</td>\n",
       "      <td>38.3526</td>\n",
       "      <td>0.1</td>\n",
       "      <td>42.18786</td>\n",
       "      <td>Cash</td>\n",
       "      <td>BDO Unibank</td>\n",
       "      <td>0.147</td>\n",
       "      <td>0.15</td>\n",
       "      <td>0.703</td>\n",
       "      <td>1.95657</td>\n",
       "      <td>1.9965</td>\n",
       "      <td>9.35693</td>\n",
       "      <td>13.1769</td>\n",
       "      <td>14.49459</td>\n",
       "    </tr>\n",
       "    <tr>\n",
       "      <th>3</th>\n",
       "      <td>GIJ00003</td>\n",
       "      <td>2016-01-02</td>\n",
       "      <td>2016</td>\n",
       "      <td>1</td>\n",
       "      <td>11:28:52.166000</td>\n",
       "      <td>9976742552</td>\n",
       "      <td>MIDID0003</td>\n",
       "      <td>1</td>\n",
       "      <td>16</td>\n",
       "      <td>Female</td>\n",
       "      <td>Jakarta</td>\n",
       "      <td>Indonesia</td>\n",
       "      <td>Fruit &amp; Vegetable</td>\n",
       "      <td>Fresh Vegetables</td>\n",
       "      <td>Oraganic 4 Life Red onions</td>\n",
       "      <td>Organic 4 Life</td>\n",
       "      <td>270 g</td>\n",
       "      <td>3.52</td>\n",
       "      <td>1</td>\n",
       "      <td>0.01</td>\n",
       "      <td>3.4848</td>\n",
       "      <td>38.3526</td>\n",
       "      <td>0.1</td>\n",
       "      <td>42.18786</td>\n",
       "      <td>Cash</td>\n",
       "      <td>BDO Unibank</td>\n",
       "      <td>0.095</td>\n",
       "      <td>0.15</td>\n",
       "      <td>0.755</td>\n",
       "      <td>0.33440</td>\n",
       "      <td>0.5280</td>\n",
       "      <td>2.65760</td>\n",
       "      <td>3.4848</td>\n",
       "      <td>3.83328</td>\n",
       "    </tr>\n",
       "    <tr>\n",
       "      <th>4</th>\n",
       "      <td>GIJ00003</td>\n",
       "      <td>2016-01-02</td>\n",
       "      <td>2016</td>\n",
       "      <td>1</td>\n",
       "      <td>11:28:52.166000</td>\n",
       "      <td>9976742552</td>\n",
       "      <td>MIDID0003</td>\n",
       "      <td>2</td>\n",
       "      <td>16</td>\n",
       "      <td>Female</td>\n",
       "      <td>Jakarta</td>\n",
       "      <td>Indonesia</td>\n",
       "      <td>Fruit &amp; Vegetable</td>\n",
       "      <td>Lettuce &amp; Salads</td>\n",
       "      <td>LIVEWELL Italian mesclun salad</td>\n",
       "      <td>LIVEWELL</td>\n",
       "      <td>570 g</td>\n",
       "      <td>4.41</td>\n",
       "      <td>1</td>\n",
       "      <td>0.01</td>\n",
       "      <td>4.3659</td>\n",
       "      <td>38.3526</td>\n",
       "      <td>0.1</td>\n",
       "      <td>42.18786</td>\n",
       "      <td>Cash</td>\n",
       "      <td>BDO Unibank</td>\n",
       "      <td>0.120</td>\n",
       "      <td>0.15</td>\n",
       "      <td>0.730</td>\n",
       "      <td>0.52920</td>\n",
       "      <td>0.6615</td>\n",
       "      <td>3.21930</td>\n",
       "      <td>4.3659</td>\n",
       "      <td>4.80249</td>\n",
       "    </tr>\n",
       "    <tr>\n",
       "      <th>5</th>\n",
       "      <td>GIJ00003</td>\n",
       "      <td>2016-01-02</td>\n",
       "      <td>2016</td>\n",
       "      <td>1</td>\n",
       "      <td>11:28:52.166000</td>\n",
       "      <td>9976742552</td>\n",
       "      <td>MIDID0003</td>\n",
       "      <td>3</td>\n",
       "      <td>16</td>\n",
       "      <td>Female</td>\n",
       "      <td>Jakarta</td>\n",
       "      <td>Indonesia</td>\n",
       "      <td>Fruit &amp; Vegetable</td>\n",
       "      <td>Lettuce &amp; Salads</td>\n",
       "      <td>ThyGrace Romanine lettuce</td>\n",
       "      <td>ThyGrace</td>\n",
       "      <td>100 g</td>\n",
       "      <td>2.81</td>\n",
       "      <td>1</td>\n",
       "      <td>0.01</td>\n",
       "      <td>2.7819</td>\n",
       "      <td>38.3526</td>\n",
       "      <td>0.1</td>\n",
       "      <td>42.18786</td>\n",
       "      <td>Cash</td>\n",
       "      <td>BDO Unibank</td>\n",
       "      <td>0.120</td>\n",
       "      <td>0.15</td>\n",
       "      <td>0.730</td>\n",
       "      <td>0.33720</td>\n",
       "      <td>0.4215</td>\n",
       "      <td>2.05130</td>\n",
       "      <td>2.7819</td>\n",
       "      <td>3.06009</td>\n",
       "    </tr>\n",
       "    <tr>\n",
       "      <th>6</th>\n",
       "      <td>GIJ00003</td>\n",
       "      <td>2016-01-02</td>\n",
       "      <td>2016</td>\n",
       "      <td>1</td>\n",
       "      <td>11:28:52.166000</td>\n",
       "      <td>9976742552</td>\n",
       "      <td>MIDID0003</td>\n",
       "      <td>3</td>\n",
       "      <td>16</td>\n",
       "      <td>Female</td>\n",
       "      <td>Jakarta</td>\n",
       "      <td>Indonesia</td>\n",
       "      <td>Fruit &amp; Vegetable</td>\n",
       "      <td>Fresh Vegetables</td>\n",
       "      <td>YUVVO French Bean</td>\n",
       "      <td>YUVVO</td>\n",
       "      <td>260 g</td>\n",
       "      <td>3.28</td>\n",
       "      <td>1</td>\n",
       "      <td>0.01</td>\n",
       "      <td>3.2472</td>\n",
       "      <td>38.3526</td>\n",
       "      <td>0.1</td>\n",
       "      <td>42.18786</td>\n",
       "      <td>Cash</td>\n",
       "      <td>BDO Unibank</td>\n",
       "      <td>0.095</td>\n",
       "      <td>0.15</td>\n",
       "      <td>0.755</td>\n",
       "      <td>0.31160</td>\n",
       "      <td>0.4920</td>\n",
       "      <td>2.47640</td>\n",
       "      <td>3.2472</td>\n",
       "      <td>3.57192</td>\n",
       "    </tr>\n",
       "    <tr>\n",
       "      <th>7</th>\n",
       "      <td>GIJ00003</td>\n",
       "      <td>2016-01-02</td>\n",
       "      <td>2016</td>\n",
       "      <td>1</td>\n",
       "      <td>11:28:52.166000</td>\n",
       "      <td>9976742552</td>\n",
       "      <td>MIDID0003</td>\n",
       "      <td>4</td>\n",
       "      <td>16</td>\n",
       "      <td>Female</td>\n",
       "      <td>Jakarta</td>\n",
       "      <td>Indonesia</td>\n",
       "      <td>Fruit &amp; Vegetable</td>\n",
       "      <td>Fresh Vegetables</td>\n",
       "      <td>ThyGrace Holland potato</td>\n",
       "      <td>ThyGrace</td>\n",
       "      <td>690 g</td>\n",
       "      <td>3.75</td>\n",
       "      <td>1</td>\n",
       "      <td>0.01</td>\n",
       "      <td>3.7125</td>\n",
       "      <td>38.3526</td>\n",
       "      <td>0.1</td>\n",
       "      <td>42.18786</td>\n",
       "      <td>Cash</td>\n",
       "      <td>BDO Unibank</td>\n",
       "      <td>0.095</td>\n",
       "      <td>0.15</td>\n",
       "      <td>0.755</td>\n",
       "      <td>0.35625</td>\n",
       "      <td>0.5625</td>\n",
       "      <td>2.83125</td>\n",
       "      <td>3.7125</td>\n",
       "      <td>4.08375</td>\n",
       "    </tr>\n",
       "  </tbody>\n",
       "</table>\n",
       "</div>"
      ],
      "text/plain": [
       "  Receipt Number       Date  Year  Month             Time Mobile Number  \\\n",
       "2       GIJ00003 2016-01-02  2016      1  11:28:52.166000    9976742552   \n",
       "3       GIJ00003 2016-01-02  2016      1  11:28:52.166000    9976742552   \n",
       "4       GIJ00003 2016-01-02  2016      1  11:28:52.166000    9976742552   \n",
       "5       GIJ00003 2016-01-02  2016      1  11:28:52.166000    9976742552   \n",
       "6       GIJ00003 2016-01-02  2016      1  11:28:52.166000    9976742552   \n",
       "7       GIJ00003 2016-01-02  2016      1  11:28:52.166000    9976742552   \n",
       "\n",
       "  Membership ID  Loyalty Card Points  Age  Gender     City    Country  \\\n",
       "2     MIDID0003                    1   16  Female  Jakarta  Indonesia   \n",
       "3     MIDID0003                    1   16  Female  Jakarta  Indonesia   \n",
       "4     MIDID0003                    2   16  Female  Jakarta  Indonesia   \n",
       "5     MIDID0003                    3   16  Female  Jakarta  Indonesia   \n",
       "6     MIDID0003                    3   16  Female  Jakarta  Indonesia   \n",
       "7     MIDID0003                    4   16  Female  Jakarta  Indonesia   \n",
       "\n",
       "            Category      Sub_Category                                Items  \\\n",
       "2  Fruit & Vegetable     Frozen Fruits  Cascadian farm organic strawberries   \n",
       "3  Fruit & Vegetable  Fresh Vegetables           Oraganic 4 Life Red onions   \n",
       "4  Fruit & Vegetable  Lettuce & Salads       LIVEWELL Italian mesclun salad   \n",
       "5  Fruit & Vegetable  Lettuce & Salads            ThyGrace Romanine lettuce   \n",
       "6  Fruit & Vegetable  Fresh Vegetables                    YUVVO French Bean   \n",
       "7  Fruit & Vegetable  Fresh Vegetables              ThyGrace Holland potato   \n",
       "\n",
       "           Brand  Description   Price  QTY  DISC   Amount  Net Bill Amount  \\\n",
       "2  Cascadiam Farm         1 Kg  13.31    1  0.01  13.1769          38.3526   \n",
       "3  Organic 4 Life        270 g   3.52    1  0.01   3.4848          38.3526   \n",
       "4        LIVEWELL        570 g   4.41    1  0.01   4.3659          38.3526   \n",
       "5        ThyGrace        100 g   2.81    1  0.01   2.7819          38.3526   \n",
       "6           YUVVO        260 g   3.28    1  0.01   3.2472          38.3526   \n",
       "7        ThyGrace        690 g   3.75    1  0.01   3.7125          38.3526   \n",
       "\n",
       "   GST  Gross Bill Amount Payment Mode    Bank Name  % Profit Margin  \\\n",
       "2  0.1           42.18786         Cash  BDO Unibank            0.147   \n",
       "3  0.1           42.18786         Cash  BDO Unibank            0.095   \n",
       "4  0.1           42.18786         Cash  BDO Unibank            0.120   \n",
       "5  0.1           42.18786         Cash  BDO Unibank            0.120   \n",
       "6  0.1           42.18786         Cash  BDO Unibank            0.095   \n",
       "7  0.1           42.18786         Cash  BDO Unibank            0.095   \n",
       "\n",
       "   % Operating Cost  % Product Cost  Profit Margin  Operating Cost  \\\n",
       "2              0.15           0.703        1.95657          1.9965   \n",
       "3              0.15           0.755        0.33440          0.5280   \n",
       "4              0.15           0.730        0.52920          0.6615   \n",
       "5              0.15           0.730        0.33720          0.4215   \n",
       "6              0.15           0.755        0.31160          0.4920   \n",
       "7              0.15           0.755        0.35625          0.5625   \n",
       "\n",
       "   Product Cost  Net Bill Amount Recalculation  \\\n",
       "2       9.35693                        13.1769   \n",
       "3       2.65760                         3.4848   \n",
       "4       3.21930                         4.3659   \n",
       "5       2.05130                         2.7819   \n",
       "6       2.47640                         3.2472   \n",
       "7       2.83125                         3.7125   \n",
       "\n",
       "   Gross Bill Amount Recalculation  \n",
       "2                         14.49459  \n",
       "3                          3.83328  \n",
       "4                          4.80249  \n",
       "5                          3.06009  \n",
       "6                          3.57192  \n",
       "7                          4.08375  "
      ]
     },
     "execution_count": 29,
     "metadata": {},
     "output_type": "execute_result"
    }
   ],
   "source": [
    "\"\"\"\n",
    "Перевірка коректності розрахункових даних для рахунків, в яких більше однієї позиції, так як дані по стовбчику \"Net Bill Amount\" та\n",
    "\"Gross Bill Amount\" надані для всього рахунку, а не за окрему позицію. Візьмемо перший такий рахунок з номером \"GIJ00003\".\n",
    "\"\"\"\n",
    "df[df['Receipt Number'] == 'GIJ00003']"
   ]
  },
  {
   "cell_type": "code",
   "execution_count": 30,
   "id": "4c191a00-7f75-40c5-9152-69ceb76ee6a8",
   "metadata": {
    "tags": []
   },
   "outputs": [
    {
     "data": {
      "text/plain": [
       "30.769199999999998"
      ]
     },
     "execution_count": 30,
     "metadata": {},
     "output_type": "execute_result"
    }
   ],
   "source": [
    "df[df['Receipt Number'] == 'GIJ00003'].Amount.sum()"
   ]
  },
  {
   "cell_type": "code",
   "execution_count": 31,
   "id": "c7346d97-91db-4a8b-a384-983d42a6cb9c",
   "metadata": {
    "tags": []
   },
   "outputs": [
    {
     "data": {
      "text/html": [
       "<div>\n",
       "<style scoped>\n",
       "    .dataframe tbody tr th:only-of-type {\n",
       "        vertical-align: middle;\n",
       "    }\n",
       "\n",
       "    .dataframe tbody tr th {\n",
       "        vertical-align: top;\n",
       "    }\n",
       "\n",
       "    .dataframe thead th {\n",
       "        text-align: right;\n",
       "    }\n",
       "</style>\n",
       "<table border=\"1\" class=\"dataframe\">\n",
       "  <thead>\n",
       "    <tr style=\"text-align: right;\">\n",
       "      <th></th>\n",
       "      <th>Receipt Number</th>\n",
       "      <th>Date</th>\n",
       "      <th>Year</th>\n",
       "      <th>Month</th>\n",
       "      <th>Time</th>\n",
       "      <th>Mobile Number</th>\n",
       "      <th>Membership ID</th>\n",
       "      <th>Loyalty Card Points</th>\n",
       "      <th>Age</th>\n",
       "      <th>Gender</th>\n",
       "      <th>City</th>\n",
       "      <th>Country</th>\n",
       "      <th>Category</th>\n",
       "      <th>Sub_Category</th>\n",
       "      <th>Items</th>\n",
       "      <th>Brand</th>\n",
       "      <th>Description</th>\n",
       "      <th>Price</th>\n",
       "      <th>QTY</th>\n",
       "      <th>DISC</th>\n",
       "      <th>Amount</th>\n",
       "      <th>Net Bill Amount</th>\n",
       "      <th>GST</th>\n",
       "      <th>Gross Bill Amount</th>\n",
       "      <th>Payment Mode</th>\n",
       "      <th>Bank Name</th>\n",
       "      <th>% Profit Margin</th>\n",
       "      <th>% Operating Cost</th>\n",
       "      <th>% Product Cost</th>\n",
       "      <th>Profit Margin</th>\n",
       "      <th>Operating Cost</th>\n",
       "      <th>Product Cost</th>\n",
       "      <th>Net Bill Amount Recalculation</th>\n",
       "      <th>Gross Bill Amount Recalculation</th>\n",
       "    </tr>\n",
       "  </thead>\n",
       "  <tbody>\n",
       "    <tr>\n",
       "      <th>0</th>\n",
       "      <td>GIJ00001</td>\n",
       "      <td>2016-01-02</td>\n",
       "      <td>2016</td>\n",
       "      <td>1</td>\n",
       "      <td>10:08:03.260000</td>\n",
       "      <td>9793548581</td>\n",
       "      <td>MIDID0001</td>\n",
       "      <td>1</td>\n",
       "      <td>36</td>\n",
       "      <td>Male</td>\n",
       "      <td>Jakarta</td>\n",
       "      <td>Indonesia</td>\n",
       "      <td>Choco, Snacks, Sweets</td>\n",
       "      <td>Biscuits &amp; Crackers</td>\n",
       "      <td>Oreo mini oreo sharepack</td>\n",
       "      <td>Oreo</td>\n",
       "      <td>540 g</td>\n",
       "      <td>3.09</td>\n",
       "      <td>4</td>\n",
       "      <td>0.02</td>\n",
       "      <td>12.1128</td>\n",
       "      <td>12.1128</td>\n",
       "      <td>0.1</td>\n",
       "      <td>13.32408</td>\n",
       "      <td>Card</td>\n",
       "      <td>Enterprise Bank</td>\n",
       "      <td>0.150</td>\n",
       "      <td>0.15</td>\n",
       "      <td>0.700</td>\n",
       "      <td>1.85400</td>\n",
       "      <td>1.8540</td>\n",
       "      <td>8.65200</td>\n",
       "      <td>12.1128</td>\n",
       "      <td>13.32408</td>\n",
       "    </tr>\n",
       "    <tr>\n",
       "      <th>1</th>\n",
       "      <td>GIJ00002</td>\n",
       "      <td>2016-01-02</td>\n",
       "      <td>2016</td>\n",
       "      <td>1</td>\n",
       "      <td>15:46:50.832000</td>\n",
       "      <td>9938441276</td>\n",
       "      <td>MIDID0002</td>\n",
       "      <td>2</td>\n",
       "      <td>54</td>\n",
       "      <td>Male</td>\n",
       "      <td>Jakarta</td>\n",
       "      <td>Indonesia</td>\n",
       "      <td>Wines, Beers &amp; Spirits</td>\n",
       "      <td>Beer</td>\n",
       "      <td>Ashai Lager Beer</td>\n",
       "      <td>Ashai</td>\n",
       "      <td>480 ml</td>\n",
       "      <td>11.60</td>\n",
       "      <td>2</td>\n",
       "      <td>0.01</td>\n",
       "      <td>22.9680</td>\n",
       "      <td>22.9680</td>\n",
       "      <td>0.1</td>\n",
       "      <td>25.26480</td>\n",
       "      <td>Card</td>\n",
       "      <td>Philippine Veterans Bank</td>\n",
       "      <td>0.118</td>\n",
       "      <td>0.15</td>\n",
       "      <td>0.732</td>\n",
       "      <td>2.73760</td>\n",
       "      <td>3.4800</td>\n",
       "      <td>16.98240</td>\n",
       "      <td>22.9680</td>\n",
       "      <td>25.26480</td>\n",
       "    </tr>\n",
       "    <tr>\n",
       "      <th>2</th>\n",
       "      <td>GIJ00003</td>\n",
       "      <td>2016-01-02</td>\n",
       "      <td>2016</td>\n",
       "      <td>1</td>\n",
       "      <td>11:28:52.166000</td>\n",
       "      <td>9976742552</td>\n",
       "      <td>MIDID0003</td>\n",
       "      <td>1</td>\n",
       "      <td>16</td>\n",
       "      <td>Female</td>\n",
       "      <td>Jakarta</td>\n",
       "      <td>Indonesia</td>\n",
       "      <td>Fruit &amp; Vegetable</td>\n",
       "      <td>Frozen Fruits</td>\n",
       "      <td>Cascadian farm organic strawberries</td>\n",
       "      <td>Cascadiam Farm</td>\n",
       "      <td>1 Kg</td>\n",
       "      <td>13.31</td>\n",
       "      <td>1</td>\n",
       "      <td>0.01</td>\n",
       "      <td>13.1769</td>\n",
       "      <td>38.3526</td>\n",
       "      <td>0.1</td>\n",
       "      <td>42.18786</td>\n",
       "      <td>Cash</td>\n",
       "      <td>BDO Unibank</td>\n",
       "      <td>0.147</td>\n",
       "      <td>0.15</td>\n",
       "      <td>0.703</td>\n",
       "      <td>1.95657</td>\n",
       "      <td>1.9965</td>\n",
       "      <td>9.35693</td>\n",
       "      <td>13.1769</td>\n",
       "      <td>14.49459</td>\n",
       "    </tr>\n",
       "  </tbody>\n",
       "</table>\n",
       "</div>"
      ],
      "text/plain": [
       "  Receipt Number       Date  Year  Month             Time Mobile Number  \\\n",
       "0       GIJ00001 2016-01-02  2016      1  10:08:03.260000    9793548581   \n",
       "1       GIJ00002 2016-01-02  2016      1  15:46:50.832000    9938441276   \n",
       "2       GIJ00003 2016-01-02  2016      1  11:28:52.166000    9976742552   \n",
       "\n",
       "  Membership ID  Loyalty Card Points  Age  Gender     City    Country  \\\n",
       "0     MIDID0001                    1   36    Male  Jakarta  Indonesia   \n",
       "1     MIDID0002                    2   54    Male  Jakarta  Indonesia   \n",
       "2     MIDID0003                    1   16  Female  Jakarta  Indonesia   \n",
       "\n",
       "                 Category         Sub_Category  \\\n",
       "0   Choco, Snacks, Sweets  Biscuits & Crackers   \n",
       "1  Wines, Beers & Spirits                 Beer   \n",
       "2       Fruit & Vegetable        Frozen Fruits   \n",
       "\n",
       "                                 Items          Brand  Description   Price  \\\n",
       "0             Oreo mini oreo sharepack            Oreo        540 g   3.09   \n",
       "1                     Ashai Lager Beer           Ashai       480 ml  11.60   \n",
       "2  Cascadian farm organic strawberries  Cascadiam Farm         1 Kg  13.31   \n",
       "\n",
       "   QTY  DISC   Amount  Net Bill Amount  GST  Gross Bill Amount Payment Mode  \\\n",
       "0    4  0.02  12.1128          12.1128  0.1           13.32408         Card   \n",
       "1    2  0.01  22.9680          22.9680  0.1           25.26480         Card   \n",
       "2    1  0.01  13.1769          38.3526  0.1           42.18786         Cash   \n",
       "\n",
       "                  Bank Name  % Profit Margin  % Operating Cost  \\\n",
       "0           Enterprise Bank            0.150              0.15   \n",
       "1  Philippine Veterans Bank            0.118              0.15   \n",
       "2               BDO Unibank            0.147              0.15   \n",
       "\n",
       "   % Product Cost  Profit Margin  Operating Cost  Product Cost  \\\n",
       "0           0.700        1.85400          1.8540       8.65200   \n",
       "1           0.732        2.73760          3.4800      16.98240   \n",
       "2           0.703        1.95657          1.9965       9.35693   \n",
       "\n",
       "   Net Bill Amount Recalculation  Gross Bill Amount Recalculation  \n",
       "0                        12.1128                         13.32408  \n",
       "1                        22.9680                         25.26480  \n",
       "2                        13.1769                         14.49459  "
      ]
     },
     "execution_count": 31,
     "metadata": {},
     "output_type": "execute_result"
    }
   ],
   "source": [
    "\"\"\"Бачимо, що в таблиці сума по колонці \"Net Bill Amount\" становить 38.3526, у той час як наш перерахунок дав результат 30.7692.\n",
    "Можливо це пов'язано з некоректною роботою знижок.\n",
    "Перерахуємо показники \"Net Bill Amount\" та \"Gross Bill Amount\" окремо для кожної позиції та додамо нові стовбчики до набору даних.\n",
    "\"\"\"\n",
    "df['Net Bill Amount Recalculation'] = df.Price * df.QTY *(1-df.DISC)\n",
    "df['Gross Bill Amount Recalculation'] = df['Net Bill Amount Recalculation'] * (1 + df.GST)\n",
    "df.head(3)"
   ]
  },
  {
   "cell_type": "code",
   "execution_count": 32,
   "id": "cdf0d46e-9cdd-4802-9832-3fbc77a28a9e",
   "metadata": {
    "tags": []
   },
   "outputs": [],
   "source": [
    "# Імпортуємо необхідні бібліотеки для подальшої роботи з даними та візуалізації.\n",
    "import matplotlib.pyplot as plt\n",
    "import numpy as np\n",
    "import seaborn as sns"
   ]
  },
  {
   "cell_type": "markdown",
   "id": "0ab512b6-af64-42b5-b630-c71aeed1ae4a",
   "metadata": {},
   "source": [
    "**1. Подивимось які країни та міста є в наборі даних, та який прибуток вони отримують**"
   ]
  },
  {
   "cell_type": "code",
   "execution_count": 35,
   "id": "aa2d24ed-15ad-4a11-a9ef-cc3a7fea9e4b",
   "metadata": {
    "tags": []
   },
   "outputs": [
    {
     "data": {
      "text/plain": [
       "Country      City        \n",
       "Singapore    Woodlands        7489.29808\n",
       "Indonesia    Jakarta         11068.59512\n",
       "Malaysia     Kuala Lumpur    12958.11534\n",
       "Philippines  Manila          14455.63346\n",
       "Singapore    Bedok           14649.59575\n",
       "Name: Profit Margin, dtype: float64"
      ]
     },
     "execution_count": 35,
     "metadata": {},
     "output_type": "execute_result"
    }
   ],
   "source": [
    "df.groupby(['Country', 'City'])['Profit Margin'].sum().sort_values()"
   ]
  },
  {
   "cell_type": "markdown",
   "id": "95575ddb-3658-4a32-b593-e75b9c39339e",
   "metadata": {
    "jp-MarkdownHeadingCollapsed": true,
    "tags": []
   },
   "source": [
    "Цікаво, що в Сінгапурі (в різних містах) знаходиться самий прибутковий(Bedok) та збитковий(Woodlands) магазини. Це може бути пов'язано з різною кількістю населення, фінансовим благополуччям або ж представлені не ті категорії товарів, які потребують клієнти"
   ]
  },
  {
   "cell_type": "markdown",
   "id": "1f2ba042-a2ec-478e-9f65-d3331797fa08",
   "metadata": {},
   "source": [
    "**2. Переглянемо які категорії товарів більше купують у Woodlands та у Bedok**"
   ]
  },
  {
   "cell_type": "code",
   "execution_count": 36,
   "id": "e70f5d40-857b-4546-8737-6cb376ba3d7d",
   "metadata": {
    "tags": []
   },
   "outputs": [],
   "source": [
    "Woodlands_category = df[df.City == 'Woodlands'].groupby('Category')['Net Bill Amount Recalculation'].sum()\n",
    "Bedok_category = df[df.City == 'Bedok'].groupby('Category')['Net Bill Amount Recalculation'].sum()"
   ]
  },
  {
   "cell_type": "code",
   "execution_count": 39,
   "id": "0f1c9036-180a-4b84-8ccf-894cfe255d27",
   "metadata": {
    "tags": []
   },
   "outputs": [
    {
     "data": {
      "image/png": "[encoded data removed]",
      "text/plain": [
       "<Figure size 960x480 with 1 Axes>"
      ]
     },
     "metadata": {},
     "output_type": "display_data"
    }
   ],
   "source": [
    "# За допомогою гістограми перевіримо чи всі категорії товарів представлені в містах Woodlands та Bedok та який попит по категоріям\n",
    "\n",
    "fig, ax = plt.subplots(figsize=(12, 6))\n",
    "\n",
    "Woodlands_category.plot(kind='bar', ax=ax, position=0, width=0.4, color='blue', label='Woodlands')\n",
    "Bedok_category.plot(kind='bar', ax=ax, position=1, width=0.4, color='green', label='Bedok')\n",
    "\n",
    "ax.set_xlabel('Category')\n",
    "ax.set_ylabel('Net Bill Amount Recalculation')\n",
    "ax.set_title('Net Bill Amount Recalculation by Category for Woodlands and Bedok')\n",
    "ax.legend()\n",
    "\n",
    "plt.xticks(rotation=45, ha='right')\n",
    "plt.show();"
   ]
  },
  {
   "cell_type": "markdown",
   "id": "b1f16c04-e5fe-46e9-8e9f-29605082b830",
   "metadata": {},
   "source": [
    "З графіка видно, що всі категорії однаково присутні і в Woodlands, і в Bedok. Навіть зберігається загальна тенденція: маємо максимум продажів в категоріях Beauty та Frozen, і мінімум - в Kitchen & Dining, Party Supplies, Rice & Cooking Essentials."
   ]
  },
  {
   "cell_type": "markdown",
   "id": "95fece4f-1f16-487e-b483-9242e2400e33",
   "metadata": {},
   "source": [
    "**3. Порахуємо кількість унікальних клієнтів в Woodlands і в Bedok**"
   ]
  },
  {
   "cell_type": "code",
   "execution_count": 43,
   "id": "f6465a33-6611-4342-9b23-454867edb5d9",
   "metadata": {
    "tags": []
   },
   "outputs": [
    {
     "name": "stdout",
     "output_type": "stream",
     "text": [
      "Кількість унікальних клієнтів у місті Woodlands: 557\n",
      "Кількість унікальних клієнтів у місті Bedok: 1258\n"
     ]
    }
   ],
   "source": [
    "woodlands_customers_count = df[df['City'] == 'Woodlands']['Membership ID'].nunique()\n",
    "bedok_customers_count = df[df['City'] == 'Bedok']['Membership ID'].nunique()\n",
    "\n",
    "print(f'Кількість унікальних клієнтів у місті Woodlands: {woodlands_customers_count}')\n",
    "print(f'Кількість унікальних клієнтів у місті Bedok: {bedok_customers_count}')"
   ]
  },
  {
   "cell_type": "markdown",
   "id": "0ed6eaca-58ce-4568-a5d3-643da207fdff",
   "metadata": {},
   "source": [
    "Отже можна зробити висновок, що більша кількість продажів у місті Bedok порівняно з Woodlands досягається за рахунок більшої кількості населення"
   ]
  },
  {
   "cell_type": "markdown",
   "id": "2c9083be-6b34-491b-9c2c-9e5c8fd8337a",
   "metadata": {},
   "source": [
    "**4. Перевіримо рівень фінансового достатку населення в Woodlands і Bedok**"
   ]
  },
  {
   "cell_type": "code",
   "execution_count": 56,
   "id": "fafc7217-e196-4bea-b328-63ed3e35d32a",
   "metadata": {
    "tags": []
   },
   "outputs": [
    {
     "data": {
      "image/png": "[encoded data removed]",
      "text/plain": [
       "<Figure size 800x640 with 1 Axes>"
      ]
     },
     "metadata": {},
     "output_type": "display_data"
    }
   ],
   "source": [
    "# Побудуємо boxplot для перегляду основних характеристик розподілу сумарних чеків\n",
    "sns.set(style=\"whitegrid\")\n",
    "\n",
    "plt.figure(figsize=(10, 8))\n",
    "\n",
    "sns.boxplot(data=df[df['City'].isin(['Woodlands', 'Bedok'])], \n",
    "            x='City', y='Net Bill Amount Recalculation', \n",
    "            palette={\"Woodlands\": \"green\", \"Bedok\": \"blue\"},\n",
    "            notch=True, showfliers=True, boxprops={'facecolor':'none'})\n",
    "\n",
    "plt.xlabel('City', fontsize=14)\n",
    "plt.ylabel('Net Bill Amount Recalculation', fontsize=14)\n",
    "plt.title('Net Bill Amount Recalculation by City', fontsize=16)\n",
    "plt.grid(True, linestyle='--', alpha=0.7)\n",
    "\n",
    "plt.show()"
   ]
  },
  {
   "cell_type": "markdown",
   "id": "bd510408-4fdd-445d-91bd-1b6d2cadae28",
   "metadata": {},
   "source": [
    "З графіка видно, що середній чек покупця в Woodlands і Bedok не мають суттєвих відмінностей. Отже не має сенсу вводити додатковий асортимент для більш платоспроможних покупців.\n",
    "Цікаво було б дослідити 2 викиди по місту Woodlands.\n",
    "Тобто робимо загальний висновок: більший дохід по місту Bedok порівняно з Woodlands досягається лише за рахунок більшої кількості населення."
   ]
  },
  {
   "cell_type": "markdown",
   "id": "17489375-4a5d-4f60-9fc9-03da7f332033",
   "metadata": {},
   "source": [
    "**5. Переглянемо які категорії товарів найбільше та найменше прибуткові**"
   ]
  },
  {
   "cell_type": "code",
   "execution_count": 61,
   "id": "0a969864-b494-4b0a-b309-0075f53d7ff6",
   "metadata": {
    "tags": []
   },
   "outputs": [
    {
     "data": {
      "text/plain": [
       "Category\n",
       "Frozen                       9261.11848\n",
       "Beauty                       7989.95303\n",
       "Bakery & Breakfast           6224.72130\n",
       "Pet Care                     4465.25015\n",
       "Fruit & Vegetable            4388.17980\n",
       "Mother & Baby                4261.74189\n",
       "Meat & Seafood               4166.63054\n",
       "Wines, Beers & Spirits       3653.71160\n",
       "Choco, Snacks, Sweets        2958.05643\n",
       "Dairy, Chilled & Eggs        2668.73836\n",
       "Beverages                    2409.21953\n",
       "Household                    1868.32783\n",
       "Health                       1775.48380\n",
       "Party Supplies               1651.76802\n",
       "Kitchen & Dining             1611.64675\n",
       "Rice & Cooking Essentials    1266.69024\n",
       "Name: Profit Margin, dtype: float64"
      ]
     },
     "execution_count": 61,
     "metadata": {},
     "output_type": "execute_result"
    }
   ],
   "source": [
    "df_category = df.groupby('Category')['Profit Margin'].sum().sort_values(ascending = False)\n",
    "df_category"
   ]
  },
  {
   "cell_type": "markdown",
   "id": "f6fc056b-f4e1-480f-8372-575e03362024",
   "metadata": {},
   "source": [
    "Отже топ-3 найприбутковіших категорій: Frozen, Beauty, Bakery & Breakfast, \n",
    "найменш прибуткові: Rice & Cooking Essentials, Kitchen & Dining, Party Supplies"
   ]
  },
  {
   "cell_type": "markdown",
   "id": "190d1ed5-d81b-4c5f-b14f-2ffcd54a26d5",
   "metadata": {},
   "source": [
    "**6. Переглянемо дохідність по Sub_Category всередині найменш прибуткової категорії Rice & Cooking Essentials**"
   ]
  },
  {
   "cell_type": "code",
   "execution_count": 72,
   "id": "3b892bd8-161c-49e0-a29e-d490bf158a07",
   "metadata": {
    "tags": []
   },
   "outputs": [
    {
     "data": {
      "image/png": "[encoded data removed]",
      "text/plain": [
       "<Figure size 800x560 with 1 Axes>"
      ]
     },
     "metadata": {},
     "output_type": "display_data"
    }
   ],
   "source": [
    "rice_cooking_structure = df[df['Category'] == 'Rice & Cooking Essentials'].groupby('Sub_Category')['Profit Margin'].sum()\n",
    "\n",
    "# Дані\n",
    "labels = rice_cooking_structure.index\n",
    "sizes = rice_cooking_structure.values\n",
    "colors = ['gold', 'yellowgreen', 'lightcoral', 'lightskyblue', 'lightgreen', 'lightpink']\n",
    "\n",
    "\n",
    "# Побудова діаграми\n",
    "plt.figure(figsize=(10, 7))\n",
    "plt.pie(sizes, labels=labels, colors=colors, autopct='%1.1f%%', startangle=140)\n",
    "\n",
    "\n",
    "plt.axis('equal')\n",
    "plt.title('Profit Margin Distribution for Rice & Cooking Essentials', pad=40)\n",
    "plt.show()"
   ]
  },
  {
   "cell_type": "markdown",
   "id": "2761509e-8e49-4276-b50c-111693f9b54d",
   "metadata": {},
   "source": [
    "З графіка видно, що найменш прибутковими є підкатегорії oil та Rice. Потрібно провести маркетингові заходи для привернення уваги покупців до товарів цих підкатегорій"
   ]
  },
  {
   "cell_type": "markdown",
   "id": "960b285b-3cf0-4623-9e83-231ecdf856c0",
   "metadata": {},
   "source": [
    "**7. Побудуємо графік розсіювання (scatterplot) між Profit Margin та Operating Cost в найменш прибутковій категорії Rice & Cooking Essentials**"
   ]
  },
  {
   "cell_type": "code",
   "execution_count": 80,
   "id": "5123322a-ad1d-4adc-8e33-c322f0fa2f9b",
   "metadata": {
    "tags": []
   },
   "outputs": [
    {
     "data": {
      "image/png": "[encoded data removed]",
      "text/plain": [
       "<Figure size 640x480 with 1 Axes>"
      ]
     },
     "metadata": {},
     "output_type": "display_data"
    }
   ],
   "source": [
    "plt.scatter('Profit Margin', 'Operating Cost', data=df[df['Category'] == 'Rice & Cooking Essentials'], alpha=0.2)\n",
    "plt.xlabel('Profit Margin')\n",
    "plt.ylabel('Operating Cost')\n",
    "plt.title('Rice & Cooking Essentials');"
   ]
  },
  {
   "cell_type": "markdown",
   "id": "44f25839-5c3a-4c9a-b1e8-f1704d34c62d",
   "metadata": {},
   "source": [
    " Існує сильна позитивна кореляція між Profit Margin та Operating Cost. Точки утворюють майже пряму лінію, що вказує на те, що Profit Margin збільшується разом із Operating Cost. Що логічно, тобто зростання операційних затрат враховується для формування маржі"
   ]
  },
  {
   "cell_type": "markdown",
   "id": "772da164-0435-456e-a0b5-ba24d94201d3",
   "metadata": {
    "tags": []
   },
   "source": [
    "**8. Подивимось як змінювалась кількість покупців по рокам**"
   ]
  },
  {
   "cell_type": "code",
   "execution_count": 96,
   "id": "d9ba172c-dc21-4835-8e96-8b9bd6c12c54",
   "metadata": {
    "tags": []
   },
   "outputs": [
    {
     "data": {
      "image/png": "[encoded data removed]",
      "text/plain": [
       "<Figure size 800x480 with 1 Axes>"
      ]
     },
     "metadata": {},
     "output_type": "display_data"
    }
   ],
   "source": [
    "# Підраховуємо кількість унікальних покупців для кожного року\n",
    "unique_customers_per_year = df.groupby('Year')['Membership ID'].nunique()\n",
    "\n",
    "# Побудова графіка\n",
    "plt.figure(figsize=(10, 6))\n",
    "plt.plot(unique_customers_per_year.index, unique_customers_per_year.values, marker='o', linestyle='-', color='b')\n",
    "plt.title('Кількість покупців за роками')\n",
    "plt.xlabel('Рік')\n",
    "plt.ylabel('Кількість покупців')\n",
    "plt.xticks(unique_customers_per_year.index, unique_customers_per_year.index.astype(int))\n",
    "plt.grid(True)\n",
    "plt.show()\n"
   ]
  },
  {
   "cell_type": "markdown",
   "id": "d4200cfc-a02f-4799-97ec-ed7faf489f68",
   "metadata": {},
   "source": [
    "Бачимо, що кількість клієнтів зростає по рокам, але з кожним роком інтенсивність зростання зменшується. Можливо ця інформація буде корисна для розрахунку товариних запасів на наступні періоди"
   ]
  },
  {
   "cell_type": "markdown",
   "id": "043c7289-0a0e-48b0-a9b7-c24c1b13952b",
   "metadata": {},
   "source": [
    "**9. Подивимось гендерний розподіл покупців, а також яким категоріям товарів вони надають перевагу**"
   ]
  },
  {
   "cell_type": "code",
   "execution_count": 98,
   "id": "987aa6de-4848-4a7d-bc2a-52572482b7f9",
   "metadata": {
    "tags": []
   },
   "outputs": [
    {
     "data": {
      "text/plain": [
       "Gender\n",
       "Female    0.829028\n",
       "Male      0.170972\n",
       "Name: proportion, dtype: float64"
      ]
     },
     "execution_count": 98,
     "metadata": {},
     "output_type": "execute_result"
    }
   ],
   "source": [
    "df.Gender.value_counts(normalize = True)"
   ]
  },
  {
   "cell_type": "code",
   "execution_count": 97,
   "id": "aa0c4fb0-2888-48da-9ec9-d19a4b0842f9",
   "metadata": {
    "tags": []
   },
   "outputs": [
    {
     "data": {
      "text/html": [
       "<style type=\"text/css\">\n",
       "#T_27943_row0_col0 {\n",
       "  background-color: #800026;\n",
       "  color: #f1f1f1;\n",
       "}\n",
       "#T_27943_row0_col1 {\n",
       "  background-color: #dd161d;\n",
       "  color: #f1f1f1;\n",
       "}\n",
       "#T_27943_row0_col2 {\n",
       "  background-color: #feca66;\n",
       "  color: #000000;\n",
       "}\n",
       "#T_27943_row0_col3 {\n",
       "  background-color: #fea546;\n",
       "  color: #000000;\n",
       "}\n",
       "#T_27943_row0_col4 {\n",
       "  background-color: #fd903d;\n",
       "  color: #000000;\n",
       "}\n",
       "#T_27943_row0_col5 {\n",
       "  background-color: #910026;\n",
       "  color: #f1f1f1;\n",
       "}\n",
       "#T_27943_row0_col6 {\n",
       "  background-color: #f84628;\n",
       "  color: #f1f1f1;\n",
       "}\n",
       "#T_27943_row0_col7 {\n",
       "  background-color: #ffeda0;\n",
       "  color: #000000;\n",
       "}\n",
       "#T_27943_row0_col8, #T_27943_row0_col12 {\n",
       "  background-color: #fed976;\n",
       "  color: #000000;\n",
       "}\n",
       "#T_27943_row0_col9 {\n",
       "  background-color: #feb852;\n",
       "  color: #000000;\n",
       "}\n",
       "#T_27943_row0_col10 {\n",
       "  background-color: #fec965;\n",
       "  color: #000000;\n",
       "}\n",
       "#T_27943_row0_col11 {\n",
       "  background-color: #fecf6b;\n",
       "  color: #000000;\n",
       "}\n",
       "#T_27943_row0_col13 {\n",
       "  background-color: #fd923e;\n",
       "  color: #000000;\n",
       "}\n",
       "#T_27943_row0_col14 {\n",
       "  background-color: #fec05b;\n",
       "  color: #000000;\n",
       "}\n",
       "#T_27943_row0_col15 {\n",
       "  background-color: #fedc7c;\n",
       "  color: #000000;\n",
       "}\n",
       "#T_27943_row1_col0 {\n",
       "  background-color: #ffe48c;\n",
       "  color: #000000;\n",
       "}\n",
       "#T_27943_row1_col1 {\n",
       "  background-color: #ffec9f;\n",
       "  color: #000000;\n",
       "}\n",
       "#T_27943_row1_col2 {\n",
       "  background-color: #fff9be;\n",
       "  color: #000000;\n",
       "}\n",
       "#T_27943_row1_col3 {\n",
       "  background-color: #fff5b3;\n",
       "  color: #000000;\n",
       "}\n",
       "#T_27943_row1_col4 {\n",
       "  background-color: #fff4b2;\n",
       "  color: #000000;\n",
       "}\n",
       "#T_27943_row1_col5 {\n",
       "  background-color: #ffe998;\n",
       "  color: #000000;\n",
       "}\n",
       "#T_27943_row1_col6 {\n",
       "  background-color: #fff0a8;\n",
       "  color: #000000;\n",
       "}\n",
       "#T_27943_row1_col7 {\n",
       "  background-color: #ffffcc;\n",
       "  color: #000000;\n",
       "}\n",
       "#T_27943_row1_col8, #T_27943_row1_col10 {\n",
       "  background-color: #fffac0;\n",
       "  color: #000000;\n",
       "}\n",
       "#T_27943_row1_col9 {\n",
       "  background-color: #fff8ba;\n",
       "  color: #000000;\n",
       "}\n",
       "#T_27943_row1_col11 {\n",
       "  background-color: #fffac1;\n",
       "  color: #000000;\n",
       "}\n",
       "#T_27943_row1_col12, #T_27943_row1_col15 {\n",
       "  background-color: #fffcc4;\n",
       "  color: #000000;\n",
       "}\n",
       "#T_27943_row1_col13 {\n",
       "  background-color: #fff3af;\n",
       "  color: #000000;\n",
       "}\n",
       "#T_27943_row1_col14 {\n",
       "  background-color: #fff7b9;\n",
       "  color: #000000;\n",
       "}\n",
       "</style>\n",
       "<table id=\"T_27943\">\n",
       "  <thead>\n",
       "    <tr>\n",
       "      <th class=\"blank level0\" >&nbsp;</th>\n",
       "      <th id=\"T_27943_level0_col0\" class=\"col_heading level0 col0\" colspan=\"16\">QTY</th>\n",
       "    </tr>\n",
       "    <tr>\n",
       "      <th class=\"index_name level1\" >Category</th>\n",
       "      <th id=\"T_27943_level1_col0\" class=\"col_heading level1 col0\" >Bakery & Breakfast</th>\n",
       "      <th id=\"T_27943_level1_col1\" class=\"col_heading level1 col1\" >Beauty</th>\n",
       "      <th id=\"T_27943_level1_col2\" class=\"col_heading level1 col2\" >Beverages</th>\n",
       "      <th id=\"T_27943_level1_col3\" class=\"col_heading level1 col3\" >Choco, Snacks, Sweets</th>\n",
       "      <th id=\"T_27943_level1_col4\" class=\"col_heading level1 col4\" >Dairy, Chilled & Eggs</th>\n",
       "      <th id=\"T_27943_level1_col5\" class=\"col_heading level1 col5\" >Frozen</th>\n",
       "      <th id=\"T_27943_level1_col6\" class=\"col_heading level1 col6\" >Fruit & Vegetable</th>\n",
       "      <th id=\"T_27943_level1_col7\" class=\"col_heading level1 col7\" >Health</th>\n",
       "      <th id=\"T_27943_level1_col8\" class=\"col_heading level1 col8\" >Household</th>\n",
       "      <th id=\"T_27943_level1_col9\" class=\"col_heading level1 col9\" >Kitchen & Dining</th>\n",
       "      <th id=\"T_27943_level1_col10\" class=\"col_heading level1 col10\" >Meat & Seafood</th>\n",
       "      <th id=\"T_27943_level1_col11\" class=\"col_heading level1 col11\" >Mother & Baby</th>\n",
       "      <th id=\"T_27943_level1_col12\" class=\"col_heading level1 col12\" >Party Supplies</th>\n",
       "      <th id=\"T_27943_level1_col13\" class=\"col_heading level1 col13\" >Pet Care</th>\n",
       "      <th id=\"T_27943_level1_col14\" class=\"col_heading level1 col14\" >Rice & Cooking Essentials</th>\n",
       "      <th id=\"T_27943_level1_col15\" class=\"col_heading level1 col15\" >Wines, Beers & Spirits</th>\n",
       "    </tr>\n",
       "    <tr>\n",
       "      <th class=\"index_name level0\" >Gender</th>\n",
       "      <th class=\"blank col0\" >&nbsp;</th>\n",
       "      <th class=\"blank col1\" >&nbsp;</th>\n",
       "      <th class=\"blank col2\" >&nbsp;</th>\n",
       "      <th class=\"blank col3\" >&nbsp;</th>\n",
       "      <th class=\"blank col4\" >&nbsp;</th>\n",
       "      <th class=\"blank col5\" >&nbsp;</th>\n",
       "      <th class=\"blank col6\" >&nbsp;</th>\n",
       "      <th class=\"blank col7\" >&nbsp;</th>\n",
       "      <th class=\"blank col8\" >&nbsp;</th>\n",
       "      <th class=\"blank col9\" >&nbsp;</th>\n",
       "      <th class=\"blank col10\" >&nbsp;</th>\n",
       "      <th class=\"blank col11\" >&nbsp;</th>\n",
       "      <th class=\"blank col12\" >&nbsp;</th>\n",
       "      <th class=\"blank col13\" >&nbsp;</th>\n",
       "      <th class=\"blank col14\" >&nbsp;</th>\n",
       "      <th class=\"blank col15\" >&nbsp;</th>\n",
       "    </tr>\n",
       "  </thead>\n",
       "  <tbody>\n",
       "    <tr>\n",
       "      <th id=\"T_27943_level0_row0\" class=\"row_heading level0 row0\" >Female</th>\n",
       "      <td id=\"T_27943_row0_col0\" class=\"data row0 col0\" >8721</td>\n",
       "      <td id=\"T_27943_row0_col1\" class=\"data row0 col1\" >6733</td>\n",
       "      <td id=\"T_27943_row0_col2\" class=\"data row0 col2\" >2759</td>\n",
       "      <td id=\"T_27943_row0_col3\" class=\"data row0 col3\" >3813</td>\n",
       "      <td id=\"T_27943_row0_col4\" class=\"data row0 col4\" >4401</td>\n",
       "      <td id=\"T_27943_row0_col5\" class=\"data row0 col5\" >8398</td>\n",
       "      <td id=\"T_27943_row0_col6\" class=\"data row0 col6\" >5696</td>\n",
       "      <td id=\"T_27943_row0_col7\" class=\"data row0 col7\" >1299</td>\n",
       "      <td id=\"T_27943_row0_col8\" class=\"data row0 col8\" >2380</td>\n",
       "      <td id=\"T_27943_row0_col9\" class=\"data row0 col9\" >3263</td>\n",
       "      <td id=\"T_27943_row0_col10\" class=\"data row0 col10\" >2820</td>\n",
       "      <td id=\"T_27943_row0_col11\" class=\"data row0 col11\" >2637</td>\n",
       "      <td id=\"T_27943_row0_col12\" class=\"data row0 col12\" >2362</td>\n",
       "      <td id=\"T_27943_row0_col13\" class=\"data row0 col13\" >4323</td>\n",
       "      <td id=\"T_27943_row0_col14\" class=\"data row0 col14\" >3052</td>\n",
       "      <td id=\"T_27943_row0_col15\" class=\"data row0 col15\" >2208</td>\n",
       "    </tr>\n",
       "    <tr>\n",
       "      <th id=\"T_27943_level0_row1\" class=\"row_heading level0 row1\" >Male</th>\n",
       "      <td id=\"T_27943_row1_col0\" class=\"data row1 col0\" >1805</td>\n",
       "      <td id=\"T_27943_row1_col1\" class=\"data row1 col1\" >1356</td>\n",
       "      <td id=\"T_27943_row1_col2\" class=\"data row1 col2\" >598</td>\n",
       "      <td id=\"T_27943_row1_col3\" class=\"data row1 col3\" >840</td>\n",
       "      <td id=\"T_27943_row1_col4\" class=\"data row1 col4\" >891</td>\n",
       "      <td id=\"T_27943_row1_col5\" class=\"data row1 col5\" >1509</td>\n",
       "      <td id=\"T_27943_row1_col6\" class=\"data row1 col6\" >1119</td>\n",
       "      <td id=\"T_27943_row1_col7\" class=\"data row1 col7\" >238</td>\n",
       "      <td id=\"T_27943_row1_col8\" class=\"data row1 col8\" >553</td>\n",
       "      <td id=\"T_27943_row1_col9\" class=\"data row1 col9\" >687</td>\n",
       "      <td id=\"T_27943_row1_col10\" class=\"data row1 col10\" >549</td>\n",
       "      <td id=\"T_27943_row1_col11\" class=\"data row1 col11\" >517</td>\n",
       "      <td id=\"T_27943_row1_col12\" class=\"data row1 col12\" >462</td>\n",
       "      <td id=\"T_27943_row1_col13\" class=\"data row1 col13\" >949</td>\n",
       "      <td id=\"T_27943_row1_col14\" class=\"data row1 col14\" >715</td>\n",
       "      <td id=\"T_27943_row1_col15\" class=\"data row1 col15\" >448</td>\n",
       "    </tr>\n",
       "  </tbody>\n",
       "</table>\n"
      ],
      "text/plain": [
       "<pandas.io.formats.style.Styler at 0x226d2cb72d0>"
      ]
     },
     "metadata": {},
     "output_type": "display_data"
    }
   ],
   "source": [
    "gender_category = df.pivot_table(index=['Gender'], columns=['Category'], values=['QTY'], aggfunc='sum')\n",
    "display(gender_category.style.background_gradient(axis=None, cmap='YlOrRd'))"
   ]
  },
  {
   "cell_type": "markdown",
   "id": "4a7d083d-b7b8-4a25-84a4-22ef779c8ce3",
   "metadata": {},
   "source": [
    "Враховуючи суттєву перевагу кількості жінок серед покупців, бачимо, що обидві категорії клієнтів віддають перевагу товарам Bakery & Breakfast, Frozen та Beauty "
   ]
  },
  {
   "cell_type": "markdown",
   "id": "ed24473f-d8b0-4a28-b7bb-22c4969162c5",
   "metadata": {},
   "source": [
    "**10.Перевіримо чи є суттєва різниця між тим скільки витрачають чоловіки і скільки жінки**"
   ]
  },
  {
   "cell_type": "code",
   "execution_count": 112,
   "id": "a20bd5ee-cde4-49c3-8fc6-67809cba02d9",
   "metadata": {
    "tags": []
   },
   "outputs": [],
   "source": [
    "\"\"\"Дослідимо чи є статистично значущою різниця між чеками чоловіків та жінок\"\"\"\n",
    "\"\"\"Використаємо статистичний тест z-test. Рівень статистичної значущості alpha = 0.05.\"\"\"\n",
    "\n",
    "df_female = df[df.Gender == 'Female'].pivot_table(index = 'Receipt Number', values = 'Net Bill Amount Recalculation', aggfunc = 'sum' )\n",
    "receipt_female = df_female.to_numpy()\n",
    "\n",
    "df_male = df[df.Gender == 'Male'].pivot_table(index = 'Receipt Number', values = 'Net Bill Amount Recalculation', aggfunc = 'sum' )\n",
    "receipt_male = df_male.to_numpy()\n",
    "\n",
    "alpha = 0.05"
   ]
  },
  {
   "cell_type": "code",
   "execution_count": 113,
   "id": "ae87d640-773d-4aa0-8d17-d92e271ab45e",
   "metadata": {
    "tags": []
   },
   "outputs": [
    {
     "data": {
      "text/plain": [
       "(array([1.99143527]), array([0.04643306]))"
      ]
     },
     "execution_count": 113,
     "metadata": {},
     "output_type": "execute_result"
    }
   ],
   "source": [
    "# Нульова гіпотеза - сума чека чоловіка та жінки не відрізняється.\n",
    "# Альтернативна гіпотеза - сума чека чоловіка та жінки суттєво відрізняється.\n",
    "\n",
    "from statsmodels.stats.weightstats import ztest\n",
    "\n",
    "ztest_results = ztest(receipt_female, receipt_male, value = 0)\n",
    "ztest_results"
   ]
  },
  {
   "cell_type": "code",
   "execution_count": 114,
   "id": "d73faa1c-50d8-4408-b9a5-47a3d002b392",
   "metadata": {
    "tags": []
   },
   "outputs": [
    {
     "name": "stdout",
     "output_type": "stream",
     "text": [
      "Відхиляємо гіпотезу Н0. Сума чека суттєво відрізняється\n"
     ]
    }
   ],
   "source": [
    "if (ztest_results[1] < alpha):\n",
    "    print('Відхиляємо гіпотезу Н0. Сума чека суттєво відрізняється')\n",
    "else:\n",
    "    print('Не можемо відхилити гіпотезу Н0. Сума чека не відрізняється.')"
   ]
  },
  {
   "cell_type": "markdown",
   "id": "dd7dc5b4-238c-49d6-9a96-be7801598a92",
   "metadata": {
    "tags": []
   },
   "source": [
    "**11.Переглянемо основні статистичні характеристики по сумі чеків**"
   ]
  },
  {
   "cell_type": "code",
   "execution_count": 116,
   "id": "b7d8c57f-0e71-4c16-b68d-da5607b22b64",
   "metadata": {
    "tags": []
   },
   "outputs": [
    {
     "data": {
      "text/plain": [
       "count    50447.000000\n",
       "mean        11.167962\n",
       "std          9.227162\n",
       "min          0.798000\n",
       "25%          5.213600\n",
       "50%          8.632800\n",
       "75%         14.016000\n",
       "max        299.827200\n",
       "Name: Net Bill Amount Recalculation, dtype: float64"
      ]
     },
     "execution_count": 116,
     "metadata": {},
     "output_type": "execute_result"
    }
   ],
   "source": [
    "df['Net Bill Amount Recalculation'].describe()"
   ]
  },
  {
   "cell_type": "markdown",
   "id": "9cf5cab1-6ace-4e4d-8d25-7df9bdf4a2d6",
   "metadata": {},
   "source": [
    "Ці висновки вказують на те, що більшість чеків мають відносно низькі суми, але є кілька транзакцій з дуже високими сумами, що спричиняє значну варіацію даних. Медіана нижча за середнє значення, що вказує на асиметричний розподіл даних з довгим хвостом у бік великих значень."
   ]
  }
 ],
 "metadata": {
  "colab": {
   "provenance": []
  },
  "kernelspec": {
   "display_name": "Python 3 (ipykernel)",
   "language": "python",
   "name": "python3"
  },
  "language_info": {
   "codemirror_mode": {
    "name": "ipython",
    "version": 3
   },
   "file_extension": ".py",
   "mimetype": "text/x-python",
   "name": "python",
   "nbconvert_exporter": "python",
   "pygments_lexer": "ipython3",
   "version": "3.11.5"
  },
  "toc": {
   "base_numbering": 1,
   "nav_menu": {},
   "number_sections": true,
   "sideBar": true,
   "skip_h1_title": false,
   "title_cell": "Table of Contents",
   "title_sidebar": "Contents",
   "toc_cell": false,
   "toc_position": {},
   "toc_section_display": true,
   "toc_window_display": false
  }
 },
 "nbformat": 4,
 "nbformat_minor": 5
}
